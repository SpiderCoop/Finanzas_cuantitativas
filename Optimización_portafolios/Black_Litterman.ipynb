{
 "cells": [
  {
   "cell_type": "markdown",
   "id": "42170bea",
   "metadata": {},
   "source": [
    "# Black-Litterman"
   ]
  },
  {
   "cell_type": "code",
   "execution_count": null,
   "id": "96313c89",
   "metadata": {},
   "outputs": [],
   "source": []
  }
 ],
 "metadata": {
  "kernelspec": {
   "display_name": "Python 3",
   "language": "python",
   "name": "python3"
  },
  "language_info": {
   "name": "python",
   "version": "3.12.2"
  }
 },
 "nbformat": 4,
 "nbformat_minor": 5
}
