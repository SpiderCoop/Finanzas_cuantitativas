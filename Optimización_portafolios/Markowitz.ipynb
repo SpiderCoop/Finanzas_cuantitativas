{
 "cells": [
  {
   "cell_type": "markdown",
   "id": "cc64be38",
   "metadata": {},
   "source": [
    "# Teoría de Markowitz"
   ]
  },
  {
   "cell_type": "markdown",
   "id": "2ab2db5e",
   "metadata": {},
   "source": [
    "## 1. Introducción\n",
    "\n",
    "La **Teoría Moderna de Portafolios (MPT)**, propuesta por Harry Markowitz (1952), describe cómo los inversores racionales pueden construir portafolios eficientes que maximizan el retorno esperado para un nivel dado de riesgo (varianza) o minimizan el riesgo para un nivel dado de retorno.\n",
    "\n",
    "Los conceptos centrales son:\n",
    "\n",
    "- **Retorno esperado**: expectativa de ganancias del portafolio.\n",
    "- **Riesgo**: medido tradicionalmente por la varianza o la desviación estándar del portafolio.\n",
    "- **Diversificación**: combinación de activos con correlaciones bajas o negativas reduce el riesgo total.\n"
   ]
  },
  {
   "cell_type": "markdown",
   "id": "dbe6b747",
   "metadata": {},
   "source": [
    "## 2. Formulación matemática (desarrollo con multiplicadores de Lagrange)\n",
    "\n",
    "Aquí presento paso a paso la derivación del problema de optimización de Markowitz con restricción de presupuesto y retorno objetivo usando **multiplicadores de Lagrange**."
   ]
  },
  {
   "cell_type": "markdown",
   "id": "a7dcd86e",
   "metadata": {},
   "source": [
    "### 2.1. Definiciones y notación\n",
    "\n",
    "- Vector de pesos: $\\mathbf{w} = (w_1, \\dots, w_n)^T$.\n",
    "- Vector de retornos esperados: $\\mathbf{\\mu} = (\\mu_1, \\dots, \\mu_n)^T$.\n",
    "- Matriz de covarianza: $\\Sigma$ (simétrica positiva definida).\n",
    "\n",
    "Retorno esperado del portafolio:\n",
    "\n",
    "$$r_p = \\mathbf{w}^T \\mathbf{\\mu}$$\n",
    "\n",
    "Varianza del portafolio:\n",
    "\n",
    "$$\\sigma_p^2 = \\mathbf{w}^T \\Sigma \\mathbf{w}$$\n",
    "\n",
    "Restricciones clásicas:\n",
    "\n",
    "1. Restricción de presupuesto: $\\mathbf{1}^T \\mathbf{w} = 1$.\n",
    "2. Retorno objetivo: $\\mathbf{w}^T \\mathbf{\\mu} = r^*$ (si buscamos portafolios con retorno fijo $r^*$)."
   ]
  },
  {
   "cell_type": "markdown",
   "id": "19bb5ae0",
   "metadata": {},
   "source": [
    "### 2.2. Problema de optimización\n",
    "\n",
    "Planteamos el problema:\n",
    "\n",
    "$$\\min_{\\mathbf{w}} \\; \\mathbf{w}^T \\Sigma \\mathbf{w}$$\n",
    "sujeto a\n",
    "$$\\mathbf{1}^T \\mathbf{w} = 1, \\quad \\mathbf{w}^T \\mathbf{\\mu} = r^*.$$"
   ]
  },
  {
   "cell_type": "markdown",
   "id": "635ded88",
   "metadata": {},
   "source": [
    "### 2.3. Lagrangiano\n",
    "\n",
    "Introducimos multiplicadores de Lagrange $\\gamma$ (para presupuesto) y $\\lambda$ (para retorno):\n",
    "\n",
    "$$\\mathcal{L}(\\mathbf{w}, \\lambda, \\gamma) = \\mathbf{w}^T \\Sigma \\mathbf{w} - \\lambda (\\mathbf{w}^T \\mathbf{\\mu} - r^*) - \\gamma (\\mathbf{1}^T \\mathbf{w} - 1).$$\n",
    "\n",
    "Observa que el término objetivo es la varianza; la derivación es análoga si se usa la desviación estándar, pero la convención cuadrática facilita las derivadas."
   ]
  },
  {
   "cell_type": "markdown",
   "id": "4639a27e",
   "metadata": {},
   "source": [
    "### 2.4. Condiciones de primer orden (derivar respecto a $\\mathbf{w}$)\n",
    "\n",
    "Derivamos el Lagrangiano con respecto al vector de pesos $\\mathbf{w}$:\n",
    "\n",
    "$$\n",
    "\\nabla_{\\mathbf{w}} \\mathcal{L} = 2 \\Sigma \\mathbf{w} - \\lambda \\mathbf{\\mu} - \\gamma \\mathbf{1} = \\mathbf{0}.\n",
    "$$ \n",
    "\n",
    "Reordenando:\n",
    "\n",
    "$$\n",
    "2 \\Sigma \\mathbf{w} = \\lambda \\mathbf{\\mu} + \\gamma \\mathbf{1} \\qquad \\Rightarrow \\qquad \\Sigma \\mathbf{w} = \\frac{\\lambda}{2} \\mathbf{\\mu} + \\frac{\\gamma}{2} \\mathbf{1}.\n",
    "$$"
   ]
  },
  {
   "cell_type": "markdown",
   "id": "ec118681",
   "metadata": {},
   "source": [
    "### 2.5. Resolver para $\\mathbf{w}$ usando $\\Sigma^{-1}$\n",
    "\n",
    "Multiplicamos por $\\Sigma^{-1}$ (suponiendo que existe):\n",
    "\n",
    "$$\n",
    "\\mathbf{w} = \\frac{\\lambda}{2} \\Sigma^{-1} \\mathbf{\\mu} + \\frac{\\gamma}{2} \\Sigma^{-1} \\mathbf{1}.\n",
    "$$ \n",
    "\n",
    "Ahora imponemos las dos restricciones para obtener $\\lambda$ y $\\gamma$."
   ]
  },
  {
   "cell_type": "markdown",
   "id": "b3b34acf",
   "metadata": {},
   "source": [
    "### 2.6. Sistema para los multiplicadores\n",
    "\n",
    "Definamos las cantidades escalares útiles:\n",
    "\n",
    "$$\n",
    "A = \\mathbf{1}^T \\Sigma^{-1} \\mathbf{1}, \\quad B = \\mathbf{1}^T \\Sigma^{-1} \\mathbf{\\mu}, \\quad C = \\mathbf{\\mu}^T \\Sigma^{-1} \\mathbf{\\mu}.\n",
    "$$ \n",
    "\n",
    "Usamos $\\mathbf{w}$ en las restricciones:\n",
    "\n",
    "1) Presupuesto: $\\mathbf{1}^T \\mathbf{w} = 1$ →\n",
    "\n",
    "$$\n",
    "1 = \\frac{\\lambda}{2} \\mathbf{1}^T \\Sigma^{-1} \\mathbf{\\mu} + \\frac{\\gamma}{2} \\mathbf{1}^T \\Sigma^{-1} \\mathbf{1} = \\frac{\\lambda}{2} B + \\frac{\\gamma}{2} A.\n",
    "$$ \n",
    "\n",
    "2) Retorno objetivo: $r^* = \\mathbf{w}^T \\mathbf{\\mu}$ →\n",
    "\n",
    "$$\n",
    "r^* = \\frac{\\lambda}{2} \\mathbf{\\mu}^T \\Sigma^{-1} \\mathbf{\\mu} + \\frac{\\gamma}{2} \\mathbf{\\mu}^T \\Sigma^{-1} \\mathbf{1} = \\frac{\\lambda}{2} C + \\frac{\\gamma}{2} B.\n",
    "$$"
   ]
  },
  {
   "cell_type": "markdown",
   "id": "31d057c2",
   "metadata": {},
   "source": [
    "Estas dos ecuaciones lineales en $(\\lambda/2)$ y $(\\gamma/2)$ se escriben como:\n",
    "\n",
    "$$\n",
    "\\begin{pmatrix} C & B \\\\ B & A \\end{pmatrix} \\begin{pmatrix} \\lambda/2 \\\\ \\gamma/2 \\end{pmatrix} = \\begin{pmatrix} r^* \\\\ 1 \\end{pmatrix}.\n",
    "$$ \n",
    "\n",
    "Resolviendo para $\\lambda/2$ y $\\gamma/2$ (invirtiendo la matriz 2x2) se obtienen los multiplicadores, y sustituyéndolos en la expresión de $\\mathbf{w}$ se obtiene la fórmula cerrada para los pesos del portafolio que minimiza la varianza sujeto a un retorno $r^*$.\n",
    "\n",
    "De forma explícita, la varianza mínima alcanzable para un retorno $r^*$ es:\n",
    "\n",
    "$$\n",
    "\\sigma_p^2(r^*) = \\frac{A r^{*2} - 2 B r^* + C}{AC - B^2}.\n",
    "$$ \n",
    "\n",
    "y la familia de portafolios que minimiza la varianza para cada $r^*$ define la **frontera eficiente**."
   ]
  },
  {
   "cell_type": "markdown",
   "id": "53080300",
   "metadata": {},
   "source": [
    "### 2.7. Observaciones\n",
    "\n",
    "- La matriz $\\Sigma$ debe ser positiva definida para que el problema sea estrictamente convexo y la solución única.\n",
    "- Los multiplicadores $\\lambda,\\gamma$ se interpretan como sensibilidades (lagrangianos) a las restricciones.\n",
    "- Si no imponemos el retorno objetivo, podemos minimizar la varianza sujeto solo a la restricción presupuesto y obtenemos el **portafolio de mínima varianza global (GMV)**.\n",
    "- Si incorporamos un activo libre de riesgo $r_f$, la solución conduce al **portafolio tangente** y la recta de mercado de capitales (CML) en el caso de mercado completo con préstamo/prestamo al tipo libre de riesgo."
   ]
  },
  {
   "cell_type": "markdown",
   "id": "751370b7",
   "metadata": {},
   "source": [
    "## 3. Conceptos clave\n",
    "\n",
    "- **GMV (Global Minimum Variance)**: portafolio con la varianza más baja posible sin imponer retorno.\n",
    "- **Portafolio tangente**: maximiza el ratio de Sharpe al combinar activos arriesgados con un activo libre de riesgo.\n",
    "- **Frontera eficiente**: conjunto de portafolios que, para cada nivel de retorno, alcanzan la varianza mínima.\n",
    "- **Sharpe ratio**: $\\dfrac{E[r_p] - r_f}{\\sigma_p}$, mide retorno por unidad de riesgo.\n"
   ]
  },
  {
   "cell_type": "markdown",
   "id": "aa44d097",
   "metadata": {},
   "source": [
    "## 4. Implementación en Python\n",
    "\n",
    "Las siguientes celdas muestran cómo descargar datos con `yfinance`, calcular retornos y covarianzas, y resolver distintos problemas de optimización con `PyPortfolioOpt`."
   ]
  },
  {
   "cell_type": "code",
   "execution_count": null,
   "id": "27643db6",
   "metadata": {},
   "outputs": [],
   "source": [
    "# Instalación (ejecutar sólo si es necesario)\n",
    "#!pip install yfinance PyPortfolioOpt pandas matplotlib numpy scipy --quiet\n",
    "\n",
    "# En algunos entornos puede ser necesario reiniciar el kernel después de la instalación.\n",
    "print('Instalación: ejecutar si las librerías faltan (línea comentada).')"
   ]
  },
  {
   "cell_type": "code",
   "execution_count": 4,
   "id": "f1031718",
   "metadata": {},
   "outputs": [],
   "source": [
    "import datetime\n",
    "import pandas as pd\n",
    "import numpy as np\n",
    "import matplotlib.pyplot as plt\n",
    "\n",
    "# PyPortfolioOpt\n",
    "from pypfopt import expected_returns, risk_models\n",
    "from pypfopt import EfficientFrontier, objective_functions\n",
    "from pypfopt import plotting\n",
    "\n",
    "# yfinance\n",
    "import yfinance as yf"
   ]
  },
  {
   "cell_type": "markdown",
   "id": "53b9b9df",
   "metadata": {},
   "source": [
    "### 4.1. Descargar datos desde Yahoo Finance\n",
    "\n",
    "Configura los tickers que quieras analizar y el rango temporal. En este ejemplo dejo un set de tickers tipo: `['AAPL','MSFT','GOOG','AMZN','TSLA']`. Ajusta según tus necesidades."
   ]
  },
  {
   "cell_type": "code",
   "execution_count": 6,
   "id": "9836cb03",
   "metadata": {},
   "outputs": [
    {
     "name": "stdout",
     "output_type": "stream",
     "text": [
      "Descargados 1684 filas y 5 columnas de precios\n"
     ]
    },
    {
     "name": "stderr",
     "output_type": "stream",
     "text": [
      "C:\\Users\\djimenez\\AppData\\Local\\Temp\\ipykernel_18660\\1514636325.py:7: FutureWarning: YF.download() has changed argument auto_adjust default to True\n",
      "  prices = yf.download(TICKERS, start=START, end=END, progress=False)['Close']\n"
     ]
    },
    {
     "data": {
      "text/html": [
       "<div>\n",
       "<style scoped>\n",
       "    .dataframe tbody tr th:only-of-type {\n",
       "        vertical-align: middle;\n",
       "    }\n",
       "\n",
       "    .dataframe tbody tr th {\n",
       "        vertical-align: top;\n",
       "    }\n",
       "\n",
       "    .dataframe thead th {\n",
       "        text-align: right;\n",
       "    }\n",
       "</style>\n",
       "<table border=\"1\" class=\"dataframe\">\n",
       "  <thead>\n",
       "    <tr style=\"text-align: right;\">\n",
       "      <th>Ticker</th>\n",
       "      <th>AAPL</th>\n",
       "      <th>AMZN</th>\n",
       "      <th>GOOG</th>\n",
       "      <th>MSFT</th>\n",
       "      <th>TSLA</th>\n",
       "    </tr>\n",
       "    <tr>\n",
       "      <th>Date</th>\n",
       "      <th></th>\n",
       "      <th></th>\n",
       "      <th></th>\n",
       "      <th></th>\n",
       "      <th></th>\n",
       "    </tr>\n",
       "  </thead>\n",
       "  <tbody>\n",
       "    <tr>\n",
       "      <th>2019-01-02</th>\n",
       "      <td>37.575207</td>\n",
       "      <td>76.956497</td>\n",
       "      <td>51.937084</td>\n",
       "      <td>94.789688</td>\n",
       "      <td>20.674667</td>\n",
       "    </tr>\n",
       "    <tr>\n",
       "      <th>2019-01-03</th>\n",
       "      <td>33.832443</td>\n",
       "      <td>75.014000</td>\n",
       "      <td>50.457706</td>\n",
       "      <td>91.302559</td>\n",
       "      <td>20.024000</td>\n",
       "    </tr>\n",
       "    <tr>\n",
       "      <th>2019-01-04</th>\n",
       "      <td>35.276722</td>\n",
       "      <td>78.769501</td>\n",
       "      <td>53.171638</td>\n",
       "      <td>95.548973</td>\n",
       "      <td>21.179333</td>\n",
       "    </tr>\n",
       "    <tr>\n",
       "      <th>2019-01-07</th>\n",
       "      <td>35.198208</td>\n",
       "      <td>81.475502</td>\n",
       "      <td>53.056416</td>\n",
       "      <td>95.670853</td>\n",
       "      <td>22.330667</td>\n",
       "    </tr>\n",
       "    <tr>\n",
       "      <th>2019-01-08</th>\n",
       "      <td>35.869194</td>\n",
       "      <td>82.829002</td>\n",
       "      <td>53.448242</td>\n",
       "      <td>96.364525</td>\n",
       "      <td>22.356667</td>\n",
       "    </tr>\n",
       "  </tbody>\n",
       "</table>\n",
       "</div>"
      ],
      "text/plain": [
       "Ticker           AAPL       AMZN       GOOG       MSFT       TSLA\n",
       "Date                                                             \n",
       "2019-01-02  37.575207  76.956497  51.937084  94.789688  20.674667\n",
       "2019-01-03  33.832443  75.014000  50.457706  91.302559  20.024000\n",
       "2019-01-04  35.276722  78.769501  53.171638  95.548973  21.179333\n",
       "2019-01-07  35.198208  81.475502  53.056416  95.670853  22.330667\n",
       "2019-01-08  35.869194  82.829002  53.448242  96.364525  22.356667"
      ]
     },
     "execution_count": 6,
     "metadata": {},
     "output_type": "execute_result"
    }
   ],
   "source": [
    "# Parámetros\n",
    "TICKERS = ['AAPL', 'MSFT', 'GOOG', 'AMZN', 'TSLA']  # modifica según prefieras\n",
    "START = '2019-01-01'\n",
    "END = datetime.date.today().isoformat()\n",
    "\n",
    "# Descargar precios ajustados de cierre\n",
    "prices = yf.download(TICKERS, start=START, end=END, progress=False)['Close']\n",
    "prices = prices.dropna()\n",
    "print(f'Descargados {prices.shape[0]} filas y {prices.shape[1]} columnas de precios')\n",
    "\n",
    "# Mostrar primeras filas\n",
    "prices.head()"
   ]
  },
  {
   "cell_type": "markdown",
   "id": "221299fc",
   "metadata": {},
   "source": [
    "### 4.2. Cálculo de retornos esperados y matriz de covarianza\n",
    "\n",
    "Usaremos retornos logaritmicos o simples; `PyPortfolioOpt` ofrece funciones para estimadores robustos de retorno y riesgo."
   ]
  },
  {
   "cell_type": "code",
   "execution_count": 8,
   "id": "532dfb17",
   "metadata": {},
   "outputs": [
    {
     "name": "stdout",
     "output_type": "stream",
     "text": [
      "Retornos esperados (mu):\n",
      "Ticker\n",
      "AAPL    0.3151\n",
      "AMZN    0.1767\n",
      "GOOG    0.2587\n",
      "MSFT    0.2865\n",
      "TSLA    0.5559\n",
      "dtype: float64\n",
      "\n",
      "Matriz de covarianza (cov) tamaño:  (5, 5)\n"
     ]
    }
   ],
   "source": [
    "# Retornos (log) y estimadores\n",
    "returns = np.log(prices / prices.shift(1)).dropna()\n",
    "\n",
    "# Estimador de retornos esperado (media anualizada)\n",
    "mu = expected_returns.mean_historical_return(prices, frequency=252)\n",
    "# Matriz de covarianza (estimador de Ledoit-Wolf, más estable)\n",
    "cov = risk_models.CovarianceShrinkage(prices).ledoit_wolf()\n",
    "\n",
    "print('Retornos esperados (mu):')\n",
    "print(mu.round(4))\n",
    "\n",
    "print('\\nMatriz de covarianza (cov) tamaño: ', cov.shape)"
   ]
  },
  {
   "cell_type": "markdown",
   "id": "0ad6a1d7",
   "metadata": {},
   "source": [
    "### 4.3. Optimización: Portafolio de mínima varianza global (GMV)\n",
    "\n",
    "Usaremos `EfficientFrontier` para encontrar los pesos que minimizan la volatilidad sin imponer retorno objetivo."
   ]
  },
  {
   "cell_type": "code",
   "execution_count": 9,
   "id": "0026d32a",
   "metadata": {},
   "outputs": [
    {
     "name": "stdout",
     "output_type": "stream",
     "text": [
      "Pesos (GMV):\n",
      "OrderedDict({'AAPL': 0.24336, 'AMZN': 0.10874, 'GOOG': 0.23785, 'MSFT': 0.41005, 'TSLA': 0.0})\n",
      "Expected annual return: 27.5%\n",
      "Annual volatility: 26.8%\n",
      "Sharpe Ratio: 1.02\n"
     ]
    },
    {
     "data": {
      "text/plain": [
       "(np.float64(0.27489848513084036),\n",
       " np.float64(0.2682546053249685),\n",
       " np.float64(1.0247670670847324))"
      ]
     },
     "execution_count": 9,
     "metadata": {},
     "output_type": "execute_result"
    }
   ],
   "source": [
    "# GMV: minimizar volatilidad sujeto a presupuesto\n",
    "from pypfopt import objective_functions\n",
    "\n",
    "ef = EfficientFrontier(mu, cov)\n",
    "weights_min_vol = ef.min_volatility()\n",
    "cleaned_w_min_vol = ef.clean_weights()\n",
    "print('Pesos (GMV):')\n",
    "print(cleaned_w_min_vol)\n",
    "\n",
    "# Rendimientos y riesgo del portafolio resultante\n",
    "ef.portfolio_performance(verbose=True)"
   ]
  },
  {
   "cell_type": "markdown",
   "id": "b127bad4",
   "metadata": {},
   "source": [
    "### 4.4. Optimización: Máximo Sharpe (portafolio tangente)\n",
    "\n",
    "Maximizamos el ratio de Sharpe (suponiendo una tasa libre de riesgo `r_f`). Ajusta `r_f` según tu preferencia."
   ]
  },
  {
   "cell_type": "code",
   "execution_count": 10,
   "id": "e7729349",
   "metadata": {},
   "outputs": [
    {
     "name": "stdout",
     "output_type": "stream",
     "text": [
      "Pesos (Max Sharpe):\n",
      "OrderedDict({'AAPL': 0.36155, 'AMZN': 0.0, 'GOOG': 0.04013, 'MSFT': 0.41874, 'TSLA': 0.17958})\n",
      "Expected annual return: 34.4%\n",
      "Annual volatility: 30.1%\n",
      "Sharpe Ratio: 1.11\n"
     ]
    },
    {
     "data": {
      "text/plain": [
       "(np.float64(0.34410219596715624),\n",
       " np.float64(0.3010685203767848),\n",
       " np.float64(1.1097214532725974))"
      ]
     },
     "execution_count": 10,
     "metadata": {},
     "output_type": "execute_result"
    }
   ],
   "source": [
    "# Máximo Sharpe\n",
    "r_f = 0.01  # ejemplo: 1% anual, modificar según contexto\n",
    "ef2 = EfficientFrontier(mu, cov)\n",
    "weights_max_sharpe = ef2.max_sharpe(risk_free_rate=r_f)\n",
    "cleaned_w_max_sharpe = ef2.clean_weights()\n",
    "print('Pesos (Max Sharpe):')\n",
    "print(cleaned_w_max_sharpe)\n",
    "\n",
    "ef2.portfolio_performance(verbose=True, risk_free_rate=r_f)"
   ]
  },
  {
   "cell_type": "markdown",
   "id": "2b5af7bd",
   "metadata": {},
   "source": [
    "### 4.5. Frontera eficiente y visualización\n",
    "\n",
    "Construimos la frontera eficiente y la visualizamos usando `PyPortfolioOpt.plotting`. Puedes personalizar el número de puntos."
   ]
  },
  {
   "cell_type": "code",
   "execution_count": 11,
   "id": "fa4e8712",
   "metadata": {},
   "outputs": [
    {
     "data": {
      "image/png": "[encoded data removed]",
      "text/plain": [
       "<Figure size 800x500 with 1 Axes>"
      ]
     },
     "metadata": {},
     "output_type": "display_data"
    }
   ],
   "source": [
    "# Construir y plotear la frontera eficiente\n",
    "from pypfopt import EfficientFrontier, plotting\n",
    "\n",
    "# Calcular frontera eficiente\n",
    "ef_frontier = EfficientFrontier(mu, cov)\n",
    "fig, ax = plt.subplots(figsize=(8,5))\n",
    "plotting.plot_efficient_frontier(ef_frontier, ax=ax, show_assets=True)\n",
    "ax.set_title('Frontera eficiente (con activos)')\n",
    "plt.show()"
   ]
  },
  {
   "cell_type": "markdown",
   "id": "0b0e13a2",
   "metadata": {},
   "source": [
    "### 4.6. Evaluación simple — Simular retorno histórico del portafolio\n",
    "\n",
    "Usaremos los pesos obtenidos para calcular la serie de retornos históricos del portafolio y una tabla resumen."
   ]
  },
  {
   "cell_type": "code",
   "execution_count": 12,
   "id": "d160ff98",
   "metadata": {},
   "outputs": [
    {
     "name": "stdout",
     "output_type": "stream",
     "text": [
      "Estadísticas del portafolio (Max Sharpe)\n",
      "Retorno anual aproximado: 0.2931\n",
      "Volatilidad anual: 0.3019\n",
      "Sharpe (aprox): 0.9379\n"
     ]
    },
    {
     "data": {
      "text/html": [
       "<div>\n",
       "<style scoped>\n",
       "    .dataframe tbody tr th:only-of-type {\n",
       "        vertical-align: middle;\n",
       "    }\n",
       "\n",
       "    .dataframe tbody tr th {\n",
       "        vertical-align: top;\n",
       "    }\n",
       "\n",
       "    .dataframe thead th {\n",
       "        text-align: right;\n",
       "    }\n",
       "</style>\n",
       "<table border=\"1\" class=\"dataframe\">\n",
       "  <thead>\n",
       "    <tr style=\"text-align: right;\">\n",
       "      <th></th>\n",
       "      <th>AAPL</th>\n",
       "      <th>AMZN</th>\n",
       "      <th>GOOG</th>\n",
       "      <th>MSFT</th>\n",
       "      <th>TSLA</th>\n",
       "    </tr>\n",
       "  </thead>\n",
       "  <tbody>\n",
       "    <tr>\n",
       "      <th>weight</th>\n",
       "      <td>0.36155</td>\n",
       "      <td>0.0</td>\n",
       "      <td>0.04013</td>\n",
       "      <td>0.41874</td>\n",
       "      <td>0.17958</td>\n",
       "    </tr>\n",
       "  </tbody>\n",
       "</table>\n",
       "</div>"
      ],
      "text/plain": [
       "           AAPL  AMZN     GOOG     MSFT     TSLA\n",
       "weight  0.36155   0.0  0.04013  0.41874  0.17958"
      ]
     },
     "execution_count": 12,
     "metadata": {},
     "output_type": "execute_result"
    }
   ],
   "source": [
    "# Tomemos el portafolio Max Sharpe como ejemplo\n",
    "weights = cleaned_w_max_sharpe\n",
    "\n",
    "# Convertir pesos a array en el orden de prices.columns\n",
    "w = np.array([weights.get(ticker, 0) for ticker in prices.columns])\n",
    "\n",
    "# Serie de retornos diarios del portafolio (log returns)\n",
    "port_returns = returns.dot(w)\n",
    "\n",
    "# Estadísticas simples\n",
    "annual_return = port_returns.mean() * 252\n",
    "annual_vol = port_returns.std() * np.sqrt(252)\n",
    "sharpe = (annual_return - r_f) / annual_vol\n",
    "\n",
    "print('Estadísticas del portafolio (Max Sharpe)')\n",
    "print(f'Retorno anual aproximado: {annual_return:.4f}')\n",
    "print(f'Volatilidad anual: {annual_vol:.4f}')\n",
    "print(f'Sharpe (aprox): {sharpe:.4f}')\n",
    "\n",
    "# Mostrar tabla de pesos\n",
    "import pandas as pd\n",
    "pd.DataFrame.from_dict(weights, orient='index', columns=['weight']).T"
   ]
  }
 ],
 "metadata": {
  "kernelspec": {
   "display_name": ".venv (3.12.2)",
   "language": "python",
   "name": "python3"
  },
  "language_info": {
   "codemirror_mode": {
    "name": "ipython",
    "version": 3
   },
   "file_extension": ".py",
   "mimetype": "text/x-python",
   "name": "python",
   "nbconvert_exporter": "python",
   "pygments_lexer": "ipython3",
   "version": "3.12.2"
  }
 },
 "nbformat": 4,
 "nbformat_minor": 5
}
