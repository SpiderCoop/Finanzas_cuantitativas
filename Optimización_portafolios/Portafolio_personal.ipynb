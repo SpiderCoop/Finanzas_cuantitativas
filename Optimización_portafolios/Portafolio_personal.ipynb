{
 "cells": [
  {
   "cell_type": "markdown",
   "id": "e927e065",
   "metadata": {},
   "source": [
    "# Optimizacion de portafolio (metodología personal)"
   ]
  },
  {
   "cell_type": "code",
   "execution_count": 7,
   "id": "385bf0ac",
   "metadata": {},
   "outputs": [],
   "source": [
    "# Librerias necesarias\n",
    "\n",
    "import pandas as pd\n",
    "import numpy as np\n",
    "\n",
    "# PyPortfolioOpt\n",
    "from pypfopt import expected_returns, risk_models\n",
    "from pypfopt import EfficientFrontier, objective_functions\n",
    "from pypfopt import plotting\n",
    "\n",
    "# yfinance\n",
    "import yfinance as yf"
   ]
  },
  {
   "cell_type": "code",
   "execution_count": 17,
   "id": "48daf444",
   "metadata": {},
   "outputs": [
    {
     "data": {
      "text/html": [
       "<div>\n",
       "<style scoped>\n",
       "    .dataframe tbody tr th:only-of-type {\n",
       "        vertical-align: middle;\n",
       "    }\n",
       "\n",
       "    .dataframe tbody tr th {\n",
       "        vertical-align: top;\n",
       "    }\n",
       "\n",
       "    .dataframe thead th {\n",
       "        text-align: right;\n",
       "    }\n",
       "</style>\n",
       "<table border=\"1\" class=\"dataframe\">\n",
       "  <thead>\n",
       "    <tr style=\"text-align: right;\">\n",
       "      <th>Ticker</th>\n",
       "      <th>AAPL</th>\n",
       "      <th>AMZN</th>\n",
       "      <th>GOOG</th>\n",
       "      <th>MSFT</th>\n",
       "      <th>TSLA</th>\n",
       "    </tr>\n",
       "    <tr>\n",
       "      <th>Date</th>\n",
       "      <th></th>\n",
       "      <th></th>\n",
       "      <th></th>\n",
       "      <th></th>\n",
       "      <th></th>\n",
       "    </tr>\n",
       "  </thead>\n",
       "  <tbody>\n",
       "    <tr>\n",
       "      <th>2025-03-24</th>\n",
       "      <td>220.191025</td>\n",
       "      <td>203.259995</td>\n",
       "      <td>169.574417</td>\n",
       "      <td>391.715729</td>\n",
       "      <td>278.390015</td>\n",
       "    </tr>\n",
       "    <tr>\n",
       "      <th>2025-03-25</th>\n",
       "      <td>223.203659</td>\n",
       "      <td>205.710007</td>\n",
       "      <td>172.428436</td>\n",
       "      <td>393.788544</td>\n",
       "      <td>288.140015</td>\n",
       "    </tr>\n",
       "    <tr>\n",
       "      <th>2025-03-26</th>\n",
       "      <td>220.989075</td>\n",
       "      <td>201.130005</td>\n",
       "      <td>166.790253</td>\n",
       "      <td>388.616547</td>\n",
       "      <td>272.059998</td>\n",
       "    </tr>\n",
       "    <tr>\n",
       "      <th>2025-03-27</th>\n",
       "      <td>223.303421</td>\n",
       "      <td>201.360001</td>\n",
       "      <td>163.736664</td>\n",
       "      <td>389.224396</td>\n",
       "      <td>273.130005</td>\n",
       "    </tr>\n",
       "    <tr>\n",
       "      <th>2025-03-28</th>\n",
       "      <td>217.367935</td>\n",
       "      <td>192.720001</td>\n",
       "      <td>155.733444</td>\n",
       "      <td>377.485291</td>\n",
       "      <td>263.549988</td>\n",
       "    </tr>\n",
       "  </tbody>\n",
       "</table>\n",
       "</div>"
      ],
      "text/plain": [
       "Ticker            AAPL        AMZN        GOOG        MSFT        TSLA\n",
       "Date                                                                  \n",
       "2025-03-24  220.191025  203.259995  169.574417  391.715729  278.390015\n",
       "2025-03-25  223.203659  205.710007  172.428436  393.788544  288.140015\n",
       "2025-03-26  220.989075  201.130005  166.790253  388.616547  272.059998\n",
       "2025-03-27  223.303421  201.360001  163.736664  389.224396  273.130005\n",
       "2025-03-28  217.367935  192.720001  155.733444  377.485291  263.549988"
      ]
     },
     "execution_count": 17,
     "metadata": {},
     "output_type": "execute_result"
    }
   ],
   "source": [
    "# Parámetros\n",
    "TICKERS = ['AAPL', 'MSFT', 'GOOG', 'AMZN', 'TSLA']  # modifica según prefieras\n",
    "START = (pd.Timestamp.today() - pd.DateOffset(months=6))\n",
    "END = pd.Timestamp.today()\n",
    "\n",
    "# Descargar precios ajustados de cierre\n",
    "prices = yf.download(TICKERS, start=START, end=END, progress=False, auto_adjust=True)['Close']\n",
    "prices = prices.dropna()\n",
    "\n",
    "# Mostrar primeras filas\n",
    "prices.head()"
   ]
  },
  {
   "cell_type": "code",
   "execution_count": null,
   "id": "8cfc65f8",
   "metadata": {},
   "outputs": [],
   "source": [
    "# Retornos (log) y estimadores\n",
    "returns = np.log(prices / prices.shift(1)).dropna()\n",
    "\n",
    "# Estimador de retornos esperado (media anualizada)\n",
    "mu = expected_returns.mean_historical_return(prices, frequency=252)\n",
    "# Matriz de covarianza (estimador de Ledoit-Wolf, más estable)\n",
    "cov = risk_models.CovarianceShrinkage(prices).ledoit_wolf()\n",
    "\n",
    "print('Retornos esperados (mu):')\n",
    "print(mu.round(4))\n",
    "\n",
    "print('\\nMatriz de covarianza (cov) tamaño: ')\n",
    "print(cov)"
   ]
  }
 ],
 "metadata": {
  "kernelspec": {
   "display_name": ".venv (3.12.2)",
   "language": "python",
   "name": "python3"
  },
  "language_info": {
   "codemirror_mode": {
    "name": "ipython",
    "version": 3
   },
   "file_extension": ".py",
   "mimetype": "text/x-python",
   "name": "python",
   "nbconvert_exporter": "python",
   "pygments_lexer": "ipython3",
   "version": "3.12.2"
  }
 },
 "nbformat": 4,
 "nbformat_minor": 5
}
