{
 "cells": [
  {
   "cell_type": "markdown",
   "id": "65a775f3",
   "metadata": {},
   "source": [
    "# Cópulas: Teoría, Aplicaciones y Ejemplo en Python\n"
   ]
  },
  {
   "cell_type": "markdown",
   "id": "782d3928",
   "metadata": {},
   "source": [
    "## 1. Introducción Teórica\n",
    "\n",
    "Una **cópula** es una función que permite separar la dependencia entre variables de sus distribuciones marginales. En otras palabras, las cópulas vinculan distribuciones univariadas para formar distribuciones multivariadas.\n",
    "\n",
    "**Teorema fundamental (Sklar, 1959):**\n",
    "\n",
    "Sea $F$ una distribución conjunta con marginales $F_1, F_2, \\dots, F_n$, entonces existe una cópula $C$ tal que:\n",
    "\n",
    "$$F(x_1, \\dots, x_n) = C(F_1(x_1), \\dots, F_n(x_n))$$\n",
    "\n",
    "Además, si las marginales son continuas, la cópula es única."
   ]
  },
  {
   "cell_type": "markdown",
   "id": "a321570a",
   "metadata": {},
   "source": [
    "## 2. ¿Para qué se usan las cópulas?\n",
    "\n",
    "1. **Modelar dependencia más allá de la correlación lineal**:\n",
    "   - Permiten capturar colas pesadas o asimetrías en la dependencia.\n",
    "   - Ejemplo: riesgo financiero (eventos extremos conjuntos).\n",
    "\n",
    "2. **Construcción flexible de distribuciones multivariadas**:\n",
    "   - Se eligen marginales según los datos (Normal, T, Exponencial, etc.).\n",
    "   - Se elige una cópula que modele la dependencia (Gaussiana, t, Clayton, Gumbel...).\n",
    "\n",
    "3. **Aplicaciones**:\n",
    "   - Finanzas: Riesgo de crédito, dependencia de activos.\n",
    "   - Seguros: Riesgos conjuntos de siniestros.\n",
    "   - Hidrología: Dependencia entre precipitaciones y caudales.\n",
    "   - Machine Learning: Generación de datos sintéticos."
   ]
  },
  {
   "cell_type": "markdown",
   "id": "e04d4ac3",
   "metadata": {},
   "source": [
    "## 3. Tipos de cópulas comunes\n",
    "\n",
    "- **Gaussiana**: Dependencia simétrica, no captura colas.\n",
    "- **t de Student**: Captura colas pesadas (eventos extremos conjuntos).\n",
    "- **Archimedeanas**: Simples y flexibles (Clayton, Gumbel, Frank).\n",
    "  - Clayton: Dependencia en la cola inferior.\n",
    "  - Gumbel: Dependencia en la cola superior.\n",
    "  - Frank: Dependencia simétrica, moderada."
   ]
  },
  {
   "cell_type": "markdown",
   "id": "c86a49cc",
   "metadata": {},
   "source": [
    "## 4. Librerías en Python para cópulas\n",
    "\n",
    "- **copulas** (MIT Data to AI Lab):\n",
    "  - Soporta cópulas gaussianas, t y archimedeanas.\n",
    "  - Fácil de usar y bien documentada.\n",
    "\n",
    "- **statsmodels**:\n",
    "  - Implementa cópulas gaussianas, t y algunas Archimedeanas.\n",
    "  - Robusta y bien mantenida.\n",
    "\n",
    "- **copulalib**:\n",
    "  - Sencilla, soporta Archimedeanas.\n",
    "  - Menos mantenida, más académica.\n",
    "\n",
    "**Recomendación:** Usar `copulas` o `statsmodels` en proyectos serios."
   ]
  },
  {
   "cell_type": "markdown",
   "id": "5c625f34",
   "metadata": {},
   "source": [
    "## 5. Ejemplo práctico en Python con `copulas`\n",
    "En este ejemplo generamos datos correlacionados, ajustamos una cópula gaussiana y luego generamos nuevas muestras."
   ]
  },
  {
   "cell_type": "code",
   "execution_count": null,
   "id": "19d3415d",
   "metadata": {},
   "outputs": [],
   "source": [
    "import numpy as np\n",
    "import matplotlib.pyplot as plt\n",
    "from copulas.multivariate import GaussianMultivariate\n",
    "\n",
    "# Generamos datos sintéticos correlacionados\n",
    "np.random.seed(42)\n",
    "size = 500\n",
    "x = np.random.normal(0, 1, size)\n",
    "y = 0.8 * x + np.random.normal(0, 0.5, size)\n",
    "data = np.column_stack((x, y))\n",
    "\n",
    "# Ajustamos una cópula gaussiana\n",
    "gaussian_copula = GaussianMultivariate()\n",
    "gaussian_copula.fit(data)\n",
    "\n",
    "# Generamos nuevas muestras desde la cópula\n",
    "samples = gaussian_copula.sample(size)\n",
    "\n",
    "# Visualizamos datos originales vs generados\n",
    "fig, axs = plt.subplots(1, 2, figsize=(12,5))\n",
    "axs[0].scatter(data[:,0], data[:,1], alpha=0.5)\n",
    "axs[0].set_title('Datos originales')\n",
    "\n",
    "axs[1].scatter(samples[:,0], samples[:,1], alpha=0.5, color='orange')\n",
    "axs[1].set_title('Datos simulados desde la cópula')\n",
    "\n",
    "plt.show()"
   ]
  },
  {
   "cell_type": "markdown",
   "id": "bd5b56c1",
   "metadata": {},
   "source": [
    "## 6. Conclusión\n",
    "\n",
    "- Las cópulas permiten separar la estructura de dependencia de las marginales.\n",
    "- Son útiles cuando la correlación lineal no es suficiente.\n",
    "- En Python se puede usar `copulas` o `statsmodels`.\n",
    "- Aplicaciones: riesgo financiero, seguros, hidrología, generación de datos sintéticos."
   ]
  }
 ],
 "metadata": {},
 "nbformat": 4,
 "nbformat_minor": 5
}
